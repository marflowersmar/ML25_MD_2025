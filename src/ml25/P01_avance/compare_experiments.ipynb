{
 "cells": [
  {
   "cell_type": "code",
   "execution_count": 6,
   "id": "ecc2de3d",
   "metadata": {},
   "outputs": [
    {
     "name": "stdout",
     "output_type": "stream",
     "text": [
      " Mejores experimentos por ROC AUC:\n",
      "                    timestamp         model  n_estimators  accuracy   roc_auc  \\\n",
      "0  2025-10-08 10:42:46.162939  RandomForest           100  0.891988  0.682934   \n",
      "1  2025-10-08 10:50:55.201275  RandomForest           100  0.891988  0.682934   \n",
      "2  2025-10-08 10:58:27.516327  RandomForest           100  0.891988  0.682934   \n",
      "\n",
      "   precision  precision@100  \n",
      "0   0.896594           0.96  \n",
      "1   0.896594           0.96  \n",
      "2   0.896594           0.96  \n"
     ]
    }
   ],
   "source": [
    "import pandas as pd\n",
    "\n",
    "# Cargar logs\n",
    "df_logs = pd.read_csv(\"experiment_log.csv\")\n",
    "\n",
    "# Ordenar por ROC AUC\n",
    "df_sorted = df_logs.sort_values(\"roc_auc\", ascending=False)\n",
    "\n",
    "# Mostrar los mejores\n",
    "print(\" Mejores experimentos por ROC AUC:\")\n",
    "print(df_sorted[[\n",
    "    \"timestamp\", \"model\", \"n_estimators\", \"accuracy\", \"roc_auc\", \"precision\", \"precision@100\"\n",
    "]].head(10))\n"
   ]
  }
 ],
 "metadata": {
  "kernelspec": {
   "display_name": "mlenv",
   "language": "python",
   "name": "python3"
  },
  "language_info": {
   "codemirror_mode": {
    "name": "ipython",
    "version": 3
   },
   "file_extension": ".py",
   "mimetype": "text/x-python",
   "name": "python",
   "nbconvert_exporter": "python",
   "pygments_lexer": "ipython3",
   "version": "3.11.13"
  }
 },
 "nbformat": 4,
 "nbformat_minor": 5
}
