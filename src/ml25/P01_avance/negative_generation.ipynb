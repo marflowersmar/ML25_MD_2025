{
 "cells": [
  {
   "cell_type": "markdown",
   "id": "f4c10169",
   "metadata": {},
   "source": [
    "### Haciendo uso de gen_smart_negatives\n",
    "Para mejorar la calidad del entrenamiento, usamos gen_smart_negatives, que genera ejemplos negativos más realistas. En lugar de seleccionar productos aleatorios, esta estrategia elige productos similares (misma categoría) que el cliente no compró. Esto permite entrenar modelos más robustos y simula decisiones reales de compra, evitando que el modelo aprenda patrones triviales.\n",
    "\n",
    "\n",
    "\n"
   ]
  },
  {
   "cell_type": "code",
   "execution_count": 14,
   "id": "57cb4f1c",
   "metadata": {},
   "outputs": [
    {
     "name": "stdout",
     "output_type": "stream",
     "text": [
      "train_df_full.csv guardado con negativos inteligentes\n",
      "train_df_full_enriched.csv guardado con atributos completos\n"
     ]
    }
   ],
   "source": [
    "import pandas as pd\n",
    "import numpy as np\n",
    "\n",
    "# Cargar positivos\n",
    "df_pos = pd.read_csv(\"customer_purchases_train.csv\")\n",
    "df_pos['label'] = 1\n",
    "\n",
    "# Función de negativos inteligentes\n",
    "def gen_smart_negatives(df, n_per_positive=2, seed=42):\n",
    "    np.random.seed(seed)\n",
    "    cat_cliente = df.groupby('customer_id')['item_category'].agg(lambda x: x.mode()[0] if not x.mode().empty else None)\n",
    "    positive_pairs = set(zip(df['customer_id'], df['item_id']))\n",
    "    cat_to_items = df.groupby('item_category')['item_id'].unique().to_dict()\n",
    "    negatives = []\n",
    "\n",
    "    for customer in df['customer_id'].unique():\n",
    "        cat_pref = cat_cliente.get(customer)\n",
    "        if cat_pref is None or cat_pref not in cat_to_items:\n",
    "            continue\n",
    "        candidate_items = cat_to_items[cat_pref]\n",
    "        purchased_items = df[df['customer_id'] == customer]['item_id'].unique()\n",
    "        non_purchased = np.setdiff1d(candidate_items, purchased_items)\n",
    "        sampled_items = np.random.choice(non_purchased, size=min(n_per_positive, len(non_purchased)), replace=False)\n",
    "        for item in sampled_items:\n",
    "            negatives.append({'customer_id': customer, 'item_id': item, 'label': 0})\n",
    "\n",
    "    return pd.DataFrame(negatives)\n",
    "\n",
    "# Generar negativos\n",
    "df_neg = gen_smart_negatives(df_pos, n_per_positive=2)\n",
    "\n",
    "# Unir positivos y negativos\n",
    "train_df_full = pd.concat([df_pos, df_neg], ignore_index=True)\n",
    "\n",
    "# Guardar CSV para entrenamiento\n",
    "train_df_full.to_csv(\"train_df_full.csv\", index=False)\n",
    "print(\"train_df_full.csv guardado con negativos inteligentes\")\n",
    "\n",
    "# Cargar perfiles\n",
    "customer_profile = pd.read_csv(\"customer_profile.csv\")  # ya lo tienes\n",
    "product_profile = pd.read_csv(\"product_profile.csv\")\n",
    "\n",
    "# Enriquecer train_df_full con atributos del cliente y producto\n",
    "train_df_full = train_df_full.merge(customer_profile, on=\"customer_id\", how=\"left\")\n",
    "train_df_full = train_df_full.merge(product_profile, on=\"item_id\", how=\"left\")\n",
    "\n",
    "# Guardar CSV enriquecido\n",
    "train_df_full.to_csv(\"train_df_full_enriched.csv\", index=False)\n",
    "print(\"train_df_full_enriched.csv guardado con atributos completos\")\n",
    "\n"
   ]
  },
  {
   "cell_type": "markdown",
   "id": "aabbab2e",
   "metadata": {},
   "source": [
    "### Verificacion de negativos y balance\n"
   ]
  },
  {
   "cell_type": "code",
   "execution_count": 15,
   "id": "7a5397f1",
   "metadata": {},
   "outputs": [
    {
     "name": "stdout",
     "output_type": "stream",
     "text": [
      "purchase_id               1000\n",
      "customer_id                  0\n",
      "customer_date_of_birth    1000\n",
      "customer_gender_x         2551\n",
      "customer_signup_date      1000\n",
      "item_id                      0\n",
      "item_title_x              1000\n",
      "item_category_x           1000\n",
      "item_price_x              1000\n",
      "item_img_filename         1000\n",
      "item_avg_rating_x         1045\n",
      "item_num_ratings_x        1000\n",
      "item_release_date_x       1000\n",
      "purchase_timestamp        1000\n",
      "customer_item_views       1000\n",
      "purchase_item_rating      6745\n",
      "purchase_device           1000\n",
      "label                        0\n",
      "customer_gender_y            0\n",
      "edad                         0\n",
      "total_compras                0\n",
      "gasto_promedio               0\n",
      "antiguedad_dias              0\n",
      "categoria_frecuente          0\n",
      "blouse                       0\n",
      "dress                        0\n",
      "jacket                       0\n",
      "jeans                        0\n",
      "shirt                        0\n",
      "shoes                        0\n",
      "skirt                        0\n",
      "slacks                       0\n",
      "suit                         0\n",
      "t-shirt                      0\n",
      "black                        0\n",
      "blue                         0\n",
      "green                        0\n",
      "orange                       0\n",
      "pink                         0\n",
      "red                          0\n",
      "white                        0\n",
      "yellow                       0\n",
      "favorite_color               0\n",
      "device_frecuente             0\n",
      "preferred_price_bin          0\n",
      "avg_item_price               0\n",
      "max_item_price               0\n",
      "item_category_y              0\n",
      "item_price_y                 0\n",
      "item_title_y                 0\n",
      "item_avg_rating_y           51\n",
      "item_num_ratings_y           0\n",
      "item_release_date_y          0\n",
      "dtype: int64\n",
      "label\n",
      "1    7289\n",
      "0    1000\n",
      "Name: count, dtype: int64\n",
      "   purchase_id customer_id customer_date_of_birth customer_gender_x  \\\n",
      "0          0.0   CUST_0001             1996-12-01            female   \n",
      "1          1.0   CUST_0002             2001-08-17            female   \n",
      "2          2.0   CUST_0003             2000-01-29               NaN   \n",
      "3          3.0   CUST_0004             2002-03-31               NaN   \n",
      "4          4.0   CUST_0005             2002-05-31               NaN   \n",
      "\n",
      "  customer_signup_date    item_id                            item_title_x  \\\n",
      "0           2024-12-01  ITEM_0083              The Premium Dress You Need   \n",
      "1           2024-04-03  ITEM_0094  Step Up Your Style With Stylish Blouse   \n",
      "2           2024-10-23  ITEM_0009           Stylish Blouse That Stand Out   \n",
      "3           2025-08-13  ITEM_0100  Step Up Your Style With Stylish Blouse   \n",
      "4           2025-01-17  ITEM_0065             Modern Dress That Stand Out   \n",
      "\n",
      "  item_category_x  item_price_x item_img_filename  ...  device_frecuente  \\\n",
      "0           dress       1012.60          imgr.jpg  ...            mobile   \n",
      "1          blouse       1457.27          imgp.jpg  ...            mobile   \n",
      "2          blouse       1489.03          imgp.jpg  ...            mobile   \n",
      "3          blouse       1382.22         imgbl.jpg  ...            mobile   \n",
      "4           dress       1274.19          imgr.jpg  ...            mobile   \n",
      "\n",
      "   preferred_price_bin avg_item_price max_item_price  item_category_y  \\\n",
      "0          [708, 1176]        1221.71        1490.65            dress   \n",
      "1          [708, 1176]        1259.58        1490.65           blouse   \n",
      "2         [1374, 1859]        1313.34        1489.03           blouse   \n",
      "3         [1374, 1859]        1291.99        1490.05           blouse   \n",
      "4          [708, 1176]        1172.99        1433.47            dress   \n",
      "\n",
      "   item_price_y                            item_title_y  item_avg_rating_y  \\\n",
      "0       1012.60              The Premium Dress You Need               3.57   \n",
      "1       1457.27  Step Up Your Style With Stylish Blouse               4.05   \n",
      "2       1489.03           Stylish Blouse That Stand Out               3.26   \n",
      "3       1382.22  Step Up Your Style With Stylish Blouse               3.44   \n",
      "4       1274.19             Modern Dress That Stand Out               3.48   \n",
      "\n",
      "  item_num_ratings_y  item_release_date_y  \n",
      "0                  8           2025-06-02  \n",
      "1                  6           2025-07-12  \n",
      "2                 35           2023-08-31  \n",
      "3                  6           2025-08-31  \n",
      "4                 45           2023-08-16  \n",
      "\n",
      "[5 rows x 53 columns]\n"
     ]
    }
   ],
   "source": [
    "df = pd.read_csv(\"train_df_full_enriched.csv\")\n",
    "print(df.isnull().sum())\n",
    "print(df[\"label\"].value_counts())\n",
    "print(df.head())\n"
   ]
  },
  {
   "cell_type": "markdown",
   "id": "57aae5a8",
   "metadata": {},
   "source": [
    "### CSV para enriquecer la generacion de negativos "
   ]
  },
  {
   "cell_type": "code",
   "execution_count": 7,
   "id": "79ddcc12",
   "metadata": {},
   "outputs": [
    {
     "name": "stdout",
     "output_type": "stream",
     "text": [
      "✅ product_profile.csv guardado\n"
     ]
    }
   ],
   "source": [
    "# Crear perfil por producto\n",
    "product_profile = df_pos.drop_duplicates(\"item_id\")[[\n",
    "    \"item_id\", \"item_category\", \"item_price\", \"item_title\",\n",
    "    \"item_avg_rating\", \"item_num_ratings\", \"item_release_date\"\n",
    "]]\n",
    "\n",
    "# Guardar CSV\n",
    "product_profile.to_csv(\"product_profile.csv\", index=False)\n",
    "print(\"✅ product_profile.csv guardado\")\n"
   ]
  }
 ],
 "metadata": {
  "kernelspec": {
   "display_name": "mlenv",
   "language": "python",
   "name": "python3"
  },
  "language_info": {
   "codemirror_mode": {
    "name": "ipython",
    "version": 3
   },
   "file_extension": ".py",
   "mimetype": "text/x-python",
   "name": "python",
   "nbconvert_exporter": "python",
   "pygments_lexer": "ipython3",
   "version": "3.11.13"
  }
 },
 "nbformat": 4,
 "nbformat_minor": 5
}
