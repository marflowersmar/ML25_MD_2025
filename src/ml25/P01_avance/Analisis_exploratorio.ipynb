{
 "cells": [
  {
   "attachments": {},
   "cell_type": "markdown",
   "metadata": {
    "id": "fpnEP_vPJ1ZF"
   },
   "source": [
    "# Avance Proyecto 1: Análisis eploratorio"
   ]
  },
  {
   "attachments": {},
   "cell_type": "markdown",
   "metadata": {
    "id": "-2dytl2MJ-Qd"
   },
   "source": [
    "### Subtítulo:\n",
    "Descripción de por qué es necesario"
   ]
  },
  {
   "cell_type": "code",
   "execution_count": 4,
   "metadata": {
    "colab": {
     "base_uri": "https://localhost:8080/",
     "height": 130
    },
    "id": "EbkI4pW0J1Em",
    "outputId": "7c1afab6-a394-4aea-f5db-42697ffcd110"
   },
   "outputs": [],
   "source": [
    "#Código"
   ]
  },
  {
   "cell_type": "markdown",
   "metadata": {},
   "source": [
    "### Cantidad de usuarios:\n"
   ]
  },
  {
   "cell_type": "code",
   "execution_count": 11,
   "metadata": {},
   "outputs": [
    {
     "name": "stdout",
     "output_type": "stream",
     "text": [
      "Número de usuarios únicos: 500\n"
     ]
    }
   ],
   "source": [
    "import pandas as pd\n",
    "\n",
    "# Ruta absoluta (segura)\n",
    "file_path = \"data/customer_purchases_train.csv\"\n",
    "\n",
    "# Cargar el archivo CSV\n",
    "df = pd.read_csv(file_path)\n",
    "\n",
    "# Número de usuarios únicos\n",
    "num_customers = df[\"customer_id\"].nunique()\n",
    "\n",
    "print(f\"Número de usuarios únicos: {num_customers}\")\n"
   ]
  }
 ],
 "metadata": {
  "colab": {
   "provenance": []
  },
  "kernelspec": {
   "display_name": "mlenv",
   "language": "python",
   "name": "python3"
  },
  "language_info": {
   "codemirror_mode": {
    "name": "ipython",
    "version": 3
   },
   "file_extension": ".py",
   "mimetype": "text/x-python",
   "name": "python",
   "nbconvert_exporter": "python",
   "pygments_lexer": "ipython3",
   "version": "3.11.13"
  }
 },
 "nbformat": 4,
 "nbformat_minor": 0
}
