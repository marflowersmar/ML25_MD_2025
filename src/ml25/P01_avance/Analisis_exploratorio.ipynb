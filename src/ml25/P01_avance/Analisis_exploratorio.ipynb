{
 "cells": [
  {
   "attachments": {},
   "cell_type": "markdown",
   "metadata": {
    "id": "fpnEP_vPJ1ZF"
   },
   "source": [
    "# 2. Operaciones matemáticas con numpy"
   ]
  },
  {
   "attachments": {},
   "cell_type": "markdown",
   "metadata": {
    "id": "-2dytl2MJ-Qd"
   },
   "source": [
    "Vamos a realizar diferentes operaciones comunes de algebra lineal en numpy. Considera las siguientes operaciones:\n",
    "\n",
    "\n",
    "Realicemos ahora la misma operación en numpy:\n",
    "Puedes usar diferentes operadores para realizar operaciones con matrices\n",
    "* `np.dot(a,b)` [docs](https://numpy.org/doc/stable/reference/generated/numpy.dot.html): Se utiliza para obtener el producto punto de dos vectores. Sin embargo cuando a o b son matrices, realiza una multiplicacion de matrices.\n",
    "* `A @ B` [docs](https://numpy.org/doc/stable/reference/generated/numpy.dot.html): Si `A` y `B` son arreglos de numpy (`np.Array([algo])`), realiza una operacion de matrices regular. Recuerda que deben tener la dimensionalidad correcta para la operación.\n",
    "* `np.multiply(a,b)`: Resulta en el producto hadamart.\n",
    "* `A * B`: También corresponde a un producto hadamart, es decir una multiplicacion punto a punto. Lo mismo ocurre con los operadores `+`, `-`, y `/`. \n",
    "\n",
    "Recuerda que numpy permite realizar operaciones aun cuando las dimensiones no son identicas debido a que realiza un \"broadcasting\".\n",
    "\n",
    "### Instrucciones:\n",
    "Completa el siguiente codigo y compara el resultado de numpy con el analítico."
   ]
  },
  {
   "cell_type": "code",
   "execution_count": 10,
   "metadata": {
    "colab": {
     "base_uri": "https://localhost:8080/",
     "height": 130
    },
    "id": "EbkI4pW0J1Em",
    "outputId": "7c1afab6-a394-4aea-f5db-42697ffcd110"
   },
   "outputs": [
    {
     "name": "stdout",
     "output_type": "stream",
     "text": [
      "(2, 2)\n",
      "(2,)\n",
      "(2,)\n",
      "Resultado:\n",
      "[28 50]\n"
     ]
    }
   ],
   "source": [
    "W = np.array([[2,3],\n",
    "              [4,5]])\n",
    "print(W.shape)\n",
    "# TODO: inicializa x\n",
    "x = np.array([5,\n",
    "               6])\n",
    "print(x.shape)\n",
    "# TODO: Realiza la multiplicación de Wx\n",
    "A = np.dot(W, x)\n",
    "print(A.shape)\n",
    "print(\"Resultado:\")\n",
    "print(A)"
   ]
  }
 ],
 "metadata": {
  "colab": {
   "provenance": []
  },
  "kernelspec": {
   "display_name": ".venv",
   "language": "python",
   "name": "python3"
  },
  "language_info": {
   "codemirror_mode": {
    "name": "ipython",
    "version": 3
   },
   "file_extension": ".py",
   "mimetype": "text/x-python",
   "name": "python",
   "nbconvert_exporter": "python",
   "pygments_lexer": "ipython3",
   "version": "3.13.0"
  }
 },
 "nbformat": 4,
 "nbformat_minor": 0
}
