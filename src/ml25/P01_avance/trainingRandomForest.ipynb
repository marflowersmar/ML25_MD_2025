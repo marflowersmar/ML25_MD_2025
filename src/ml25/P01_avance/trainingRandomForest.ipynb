{
 "cells": [
  {
   "cell_type": "code",
   "execution_count": 3,
   "id": "ddc6b1db",
   "metadata": {},
   "outputs": [
    {
     "name": "stdout",
     "output_type": "stream",
     "text": [
      " Experimento registrado en experiment_log.csv\n"
     ]
    }
   ],
   "source": [
    "import pandas as pd\n",
    "import numpy as np\n",
    "from sklearn.ensemble import RandomForestClassifier\n",
    "from sklearn.metrics import accuracy_score, roc_auc_score, precision_score\n",
    "from sklearn.model_selection import train_test_split\n",
    "from datetime import datetime\n",
    "import os\n",
    "\n",
    "# 1 Cargar datos\n",
    "df = pd.read_csv(\"train_df_full_enriched.csv\")\n",
    "\n",
    "# 2 Features\n",
    "features = [\n",
    "    'edad', 'total_compras', 'gasto_promedio', 'antiguedad_dias',\n",
    "    'item_price_y', 'item_avg_rating_y', 'item_num_ratings_y'\n",
    "]\n",
    "df = df.dropna(subset=features + ['label'])\n",
    "\n",
    "# 3 División train/test por cliente (cold-start)\n",
    "clientes = df['customer_id'].unique()\n",
    "clientes_train, clientes_test = train_test_split(clientes, test_size=0.2, random_state=42)\n",
    "\n",
    "train_df = df[df['customer_id'].isin(clientes_train)]\n",
    "test_df = df[df['customer_id'].isin(clientes_test)]\n",
    "\n",
    "X_train = train_df[features]\n",
    "y_train = train_df['label']\n",
    "X_test = test_df[features]\n",
    "y_test = test_df['label']\n",
    "\n",
    "# 4 Entrenamiento\n",
    "model = RandomForestClassifier(n_estimators=100, random_state=42)\n",
    "model.fit(X_train, y_train)\n",
    "\n",
    "# 5 Evaluación\n",
    "y_pred = model.predict(X_test)\n",
    "y_proba = model.predict_proba(X_test)[:, 1]\n",
    "\n",
    "def precision_at_k(y_true, y_scores, k):\n",
    "    top_k_idx = np.argsort(y_scores)[-k:]\n",
    "    return np.mean(y_true[top_k_idx])\n",
    "\n",
    "accuracy = accuracy_score(y_test, y_pred)\n",
    "roc_auc = roc_auc_score(y_test, y_proba)\n",
    "precision = precision_score(y_test, y_pred)\n",
    "precision_k = precision_at_k(y_test.values, y_proba, 100)\n",
    "\n",
    "# 6 Logging en CSV\n",
    "log_row = pd.DataFrame([{\n",
    "    \"timestamp\": str(datetime.now()),\n",
    "    \"model\": \"RandomForest\",\n",
    "    \"n_estimators\": model.n_estimators,\n",
    "    \"accuracy\": accuracy,\n",
    "    \"roc_auc\": roc_auc,\n",
    "    \"precision\": precision,\n",
    "    \"precision@100\": precision_k,\n",
    "    \"data_version\": \"v1.0\"\n",
    "}])\n",
    "\n",
    "log_file = \"experiment_log.csv\"\n",
    "if os.path.exists(log_file):\n",
    "    log_row.to_csv(log_file, mode='a', header=False, index=False)\n",
    "else:\n",
    "    log_row.to_csv(log_file, index=False)\n",
    "\n",
    "print(\" Experimento registrado en experiment_log.csv\")\n"
   ]
  }
 ],
 "metadata": {
  "kernelspec": {
   "display_name": "mlenv",
   "language": "python",
   "name": "python3"
  },
  "language_info": {
   "codemirror_mode": {
    "name": "ipython",
    "version": 3
   },
   "file_extension": ".py",
   "mimetype": "text/x-python",
   "name": "python",
   "nbconvert_exporter": "python",
   "pygments_lexer": "ipython3",
   "version": "3.11.13"
  }
 },
 "nbformat": 4,
 "nbformat_minor": 5
}
