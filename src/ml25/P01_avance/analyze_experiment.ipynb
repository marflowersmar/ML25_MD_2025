{
 "cells": [
  {
   "cell_type": "code",
   "execution_count": 22,
   "id": "f47a4d61",
   "metadata": {},
   "outputs": [
    {
     "name": "stdout",
     "output_type": "stream",
     "text": [
      "\n",
      " Corridas de Gradient Boosting:\n",
      "                    timestamp         classifier  n_estimators  accuracy  \\\n",
      "0  2025-10-08 13:14:02.596574  gradient_boosting           100  0.823131   \n",
      "\n",
      "   roc_auc  precision  precision_at_100  \n",
      "0  0.87182   0.903627               1.0  \n"
     ]
    }
   ],
   "source": [
    "import pandas as pd\n",
    "\n",
    "# Cargar el archivo ignorando errores de formato\n",
    "df = pd.read_csv(\"experiment_log.csv\", on_bad_lines='skip', engine='python')\n",
    "\n",
    "# Filtrar solo Gradient Boosting\n",
    "gb = df[df[\"model_type\"] == \"GradientBoosting\"]\n",
    "\n",
    "# Mostrar las métricas\n",
    "print(\"\\n Corridas de Gradient Boosting:\")\n",
    "print(gb[[\n",
    "    \"timestamp\", \"classifier\", \"n_estimators\",\n",
    "    \"accuracy\", \"roc_auc\", \"precision\", \"precision_at_100\"\n",
    "]])\n"
   ]
  }
 ],
 "metadata": {
  "kernelspec": {
   "display_name": "mlenv",
   "language": "python",
   "name": "python3"
  },
  "language_info": {
   "codemirror_mode": {
    "name": "ipython",
    "version": 3
   },
   "file_extension": ".py",
   "mimetype": "text/x-python",
   "name": "python",
   "nbconvert_exporter": "python",
   "pygments_lexer": "ipython3",
   "version": "3.11.13"
  }
 },
 "nbformat": 4,
 "nbformat_minor": 5
}
