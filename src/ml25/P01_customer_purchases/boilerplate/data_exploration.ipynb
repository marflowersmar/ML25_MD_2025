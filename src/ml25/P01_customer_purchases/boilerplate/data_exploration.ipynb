{
 "cells": [
  {
   "cell_type": "markdown",
   "id": "430e5c66",
   "metadata": {},
   "source": [
    "# Exploración del conjunto de datos\n",
    "En este notebook exploraremos los datos para poder tomar una decisión sobre el diseño de la solución. En cada sección encontrarás preguntas con la intención de motivar una reflexión sobre su diseño. Mientras que no necesitan ser respondidas explícitamente, les invito a que las utilicen como guía al momento de justificar sus decisiones de diseño y presentar sus resultados.\n",
    "\n",
    "## Datos de entrenamiento\n",
    "En el conjunto de datos tenemos información sobre las *compras* realizadas en una tienda de ropa en linea. En la siguiente celda podemos ver las columnas o atributos que tenemos a nuestra disposición.\n",
    "- ¿Tenemos valores faltantes o todas las columans tienen la información completa?\n",
    "- ¿Qué tipos de columnas tenemos y cómo podemos procesarlas?"
   ]
  },
  {
   "cell_type": "code",
   "execution_count": null,
   "id": "4a839528",
   "metadata": {},
   "outputs": [],
   "source": [
    "import pandas as pd\n",
    "import os\n",
    "train_file = \"../../datasets/customer_purchases/customer_purchases_train.csv\"\n",
    "train_file = os.path.abspath(train_file)\n",
    "train_df = pd.read_csv(train_file)\n",
    "\n",
    "train_df.info()\n",
    "train_df.columns\n"
   ]
  },
  {
   "cell_type": "markdown",
   "id": "0950608f",
   "metadata": {},
   "source": [
    "## Prueba\n",
    "Recuerda que en prueba queremos saber si un cliente existente comprará un produco *no existente*. En el conjunto anterior tenemos columnas que solo tendrán información si se ha generado una compra, ¿Que columnas son estas? ¿Que valores podríamos esperar de las mismas para productos que no han salido a la venta? ¿Tiene sentido usarlas en entrenamiento tal cual? ¿Podemos extraer información valiosa de las mismas?"
   ]
  },
  {
   "cell_type": "code",
   "execution_count": null,
   "id": "72f37e27",
   "metadata": {},
   "outputs": [],
   "source": [
    "import pandas as pd\n",
    "import os\n",
    "test_file = \"../../datasets/customer_purchases/customer_purchases_test.csv\"\n",
    "test_file = os.path.abspath(test_file)\n",
    "test_df = pd.read_csv(test_file)\n",
    "\n",
    "test_df.info()\n",
    "test_df.columns"
   ]
  },
  {
   "cell_type": "markdown",
   "id": "9367084f",
   "metadata": {},
   "source": [
    "# Visualizar los datos por etiqueta\n",
    "\n",
    "Visualiza las etiquetas del conjunto de datos de entrenamiento"
   ]
  },
  {
   "cell_type": "code",
   "execution_count": null,
   "id": "2a09d255",
   "metadata": {},
   "outputs": [],
   "source": [
    "import matplotlib.pyplot as plt\n",
    "\n",
    "train_df[\"label\"].value_counts().plot(\n",
    "    kind=\"bar\",\n",
    "    xlabel=\"Label\",\n",
    "    ylabel=\"Cantidad purchase_id\",\n",
    "    title=\"purchase_id por etiqueta\",\n",
    "    figsize=(6,4)\n",
    ")\n",
    "plt.show()"
   ]
  },
  {
   "cell_type": "markdown",
   "id": "c7e0716b",
   "metadata": {},
   "source": [
    "¿Notas algo extraño?  ¿Podemos entrenar un algoritmo de ML en este dataset tal cual se nos presenta?\n",
    "¿Qué problemas podríamos encontrarnos?"
   ]
  },
  {
   "cell_type": "markdown",
   "id": "08d2c8d7",
   "metadata": {},
   "source": [
    "## Visualizar estadisticas por producto y por cliente\n",
    "\n",
    "En el dataset solo tenemos información de las *compras*, es decir cada que se repite un `customer_id`, podemos saber cuantas compras ha hecho ese cliente. De la misma manera, contar cuantas veces se repite un `item_id` nos dice cuantas veces se ha comprado ese producto. Utiliza pandas para ver si existen clientes que compran que mayor frecuencia que otros, o productos que se compran mas que otros. Responde:\n",
    "- ¿Consideras que los datos se encuentran balanceados dada la información anterior?\n",
    "- ¿Qué estrategías podrian ser útiles al momento de generar negativos?\n",
    "\n",
    "### Datos por usuario"
   ]
  },
  {
   "cell_type": "code",
   "execution_count": null,
   "id": "c4b2fe33",
   "metadata": {},
   "outputs": [],
   "source": [
    "# Conteo de compras por cliente\n",
    "by_customer = train_df[\"customer_id\"].value_counts()\n",
    "print(by_customer.describe())\n"
   ]
  },
  {
   "cell_type": "markdown",
   "id": "5a9503ae",
   "metadata": {},
   "source": [
    "¿Cómo podemos interpretar la información anterior?\n",
    "\n",
    "Visualicemos ahora en una gráfica"
   ]
  },
  {
   "cell_type": "code",
   "execution_count": null,
   "id": "2e1e3055",
   "metadata": {},
   "outputs": [],
   "source": [
    "max_val = by_customer.max()\n",
    "nbuckets = 7\n",
    "increment = max_val // nbuckets\n",
    "\n",
    "bins = []\n",
    "labels = []\n",
    "bins = list(range(0, max_val + increment, increment))\n",
    "labels = [f\"{bins[i]+1}-{bins[i+1]}\" for i in range(len(bins)-1)]\n",
    "\n",
    "\n",
    "customer_by_purchase = train_df['customer_id'].value_counts()\n",
    "customer_buckets = pd.cut(customer_by_purchase, bins=bins, labels=labels)\n",
    "bucket_counts = customer_buckets.value_counts().sort_index()\n",
    "\n",
    "bucket_counts.plot(kind=\"bar\", figsize=(6,4))\n",
    "plt.title(\"Clientes agrupados por número de compras\")\n",
    "plt.xlabel(\"Rango de compras\")\n",
    "plt.ylabel(\"Cantidad de clientes\")\n",
    "plt.show()"
   ]
  },
  {
   "cell_type": "markdown",
   "id": "fe37da91",
   "metadata": {},
   "source": [
    "### Datos por item"
   ]
  },
  {
   "cell_type": "code",
   "execution_count": null,
   "id": "9b12d26f",
   "metadata": {},
   "outputs": [],
   "source": [
    "# Conteo de compras por producto\n",
    "by_item = train_df[\"item_id\"].value_counts()\n",
    "print(by_item.describe())\n"
   ]
  },
  {
   "cell_type": "code",
   "execution_count": null,
   "id": "62b6eede",
   "metadata": {},
   "outputs": [],
   "source": [
    "max_val = by_item.max()\n",
    "nbuckets = 5\n",
    "increment = max_val // nbuckets\n",
    "\n",
    "bins = []\n",
    "labels = []\n",
    "bins = list(range(0, max_val + increment, increment))\n",
    "labels = [f\"{bins[i]+1}-{bins[i+1]}\" for i in range(len(bins)-1)]\n",
    "\n",
    "\n",
    "items_by_purchase = train_df['item_id'].value_counts()\n",
    "item_buckets = pd.cut(items_by_purchase, bins=bins, labels=labels)\n",
    "item_counts = item_buckets.value_counts().sort_index()\n",
    "\n",
    "item_counts.plot(kind=\"bar\", figsize=(6,4))\n",
    "plt.title(\"Productos agrupadas por cantidad de compras\")\n",
    "plt.xlabel(\"Rango de compras\")\n",
    "plt.ylabel(\"Cantidad de clientes\")\n",
    "plt.show()"
   ]
  },
  {
   "cell_type": "markdown",
   "id": "28599171",
   "metadata": {},
   "source": [
    "# Generación ejemplos negativos\n",
    "\n",
    "Como pudiste notar solo tenemos información de compras. Si se deseara realizar un algoritmo de clasificación para productos nuevos, este fallaría al ser entrneado en el dataset original ya que no tendría información de ejemplos negativos. Por lo anterior, este tipo de problemas comunmente se modela como sistemas de recomendación. \n",
    "\n",
    "Otra manera de resolverlo, es generar ejemplos negativos dada la información en el conjunto, por ejemplo sabemos el inventario completo (los `item_id` únicos) y sus atributos, asi como el conjunto completo de clientes (`customer_id` únicos) y para cada cliente sabemos los productos que han comprado, *pero tambien sabemos los que no compraron* si al conjunto de productos completo, le restamos el conjunto de productos que si compró. Esto nos da una señal de ejemplos negativos que podemos usar para clasificación.\n",
    "\n",
    "Dicho esto tienes 2 opciones:\n",
    "1. Investigar sistemas de recomendación tradicionales [(collaborative filtering, content-based filtering etc)](https://www.geeksforgeeks.org/machine-learning/content-based-vs-collaborative-filtering-difference/)\n",
    "2. Modelaro como un sistema de clasificación y generar tus propios ejemplos negativos\n",
    "\n",
    "Son libres de elegir la decisión que prefieran.\n",
    "\n",
    "En el caso de clasificación tenemos que considerar lo siguiente: Para muchos clientes, el conjunto de items no comprados será mucho mayor que el de items comprados. \n",
    "- ¿Qué problemas puedo tener si elijo como negativos todos los no comprados para todos los clientes?\n",
    "- ¿Pueden pensar en diferentes estrategias para generar los negativos?\n",
    "\n",
    "Pueden utilizar el archivo [negative_generation.py](./negative_generation.py) para implementar diferentes estrategias de generación de negativos. "
   ]
  },
  {
   "cell_type": "code",
   "execution_count": null,
   "id": "e52bbc8b",
   "metadata": {},
   "outputs": [],
   "source": [
    "from ml_clases.proyectos.P01_customer_purchases.negative_generation import gen_all_negatives, gen_random_negatives\n",
    "\n",
    "train_df_neg = gen_random_negatives(train_df,n_per_positive=1)\n",
    "\n",
    "train_df_full = pd.concat((train_df, train_df_neg))\n",
    "# Shuffle para que cuando hagamos el split tengamos de ambos muestras\n",
    "train_df_full = train_df_full.sample(frac=1) # 100%\n",
    "\n",
    "train_df_full[\"label\"].value_counts().plot(\n",
    "    kind=\"bar\",\n",
    "    xlabel=\"Label\",\n",
    "    ylabel=\"Cantidad purchase_id\",\n",
    "    title=\"purchase_id por etiqueta\",\n",
    "    figsize=(6,4)\n",
    ")\n",
    "plt.show()"
   ]
  },
  {
   "cell_type": "markdown",
   "id": "fb99eb8e",
   "metadata": {},
   "source": [
    "- ¿Que podemos observar cuando generamos todos los negativos?\n",
    "- ¿Se les ocurre otra manera de elegirlos?"
   ]
  },
  {
   "cell_type": "code",
   "execution_count": null,
   "id": "ad13a0f2",
   "metadata": {},
   "outputs": [],
   "source": [
    "import seaborn as sns\n",
    "sns.pairplot(train_df_full)"
   ]
  },
  {
   "cell_type": "markdown",
   "id": "3b40e231",
   "metadata": {},
   "source": [
    "## Entregables: Análisis exploratorio\n",
    "Dentro de sus entregables de analisis, intenten responder a las preguntas:\n",
    "- ¿Existen valores faltantes (i.e. NaN / None)? ¿Como proponen manejarlos?\n",
    "- ¿Que atributos pueden ser predictores útiles?\n",
    "- ¿Tenemos etiquetas balanceadas? ¿Cómo van a manejarlas?\n",
    "- ¿Que cantidad de productos existententes vs. nuevos tenemos?\n",
    "- ¿Cuantos clientes tenemos?\n",
    "- ¿Que tipos de datos tenemos y como podemos procesarlos?\n",
    "- ¿Existen correlaciones fuertes entre variables dependientes?\n",
    "- ¿Que correlaciones pueden ver entre las variables dependientes y la independiente?\n",
    "\n",
    "### Bonus:\n",
    "Se otorgarán puntos extra a análisis exploratorios excepcionales que integren diferentes métodos de ML visualizaciones y reconocimientos de patrones más complejos que vayan mas allá de lo propuesto/observado en este notebook.\n",
    "\n",
    "### Recomendaciones generales\n",
    "- Les recomiendo explorar la libreria de [seaborn](https://seaborn.pydata.org/) y las diferentes opciones de visualización que tienen.\n",
    "- Los resultados de este problema dependen en gran medida de los atributos derivados y manejo de datos por lo que les recomiento invertir la mayoría de su tiempo a explorar entrenamiento con diferentes conjuntos de atributos."
   ]
  },
  {
   "cell_type": "markdown",
   "id": "37e5b7ad",
   "metadata": {},
   "source": [
    "## Extracción de atributos\n",
    "\n",
    "Podemos extraer atributos del cliente para utilizar tanto en entrenamiento como validación o prueba. utilicen las celdas de abajo para lo mismo y guardar los datos en `customer_feat.csv`. Posteriormente podemos usar estos atributos junto con los de los items existentes asi como nuevos para entrenar y posteriormente predecir.\n",
    "\n",
    "Puedes reemplazar tu eleccion de extracción de atributos en [data_processing.py -> extract_customer_features](./data_processing.py)"
   ]
  }
 ],
 "metadata": {
  "kernelspec": {
   "display_name": "mlenv",
   "language": "python",
   "name": "python3"
  },
  "language_info": {
   "codemirror_mode": {
    "name": "ipython",
    "version": 3
   },
   "file_extension": ".py",
   "mimetype": "text/x-python",
   "name": "python",
   "nbconvert_exporter": "python",
   "pygments_lexer": "ipython3",
   "version": "3.11.13"
  }
 },
 "nbformat": 4,
 "nbformat_minor": 5
}
